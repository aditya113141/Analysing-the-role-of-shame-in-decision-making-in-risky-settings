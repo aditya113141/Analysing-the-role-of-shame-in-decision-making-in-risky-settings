{
 "cells": [
  {
   "cell_type": "code",
   "execution_count": 11,
   "id": "25a97a4f",
   "metadata": {},
   "outputs": [],
   "source": [
    "import pandas as pd"
   ]
  },
  {
   "cell_type": "code",
   "execution_count": 21,
   "id": "67aaaaea",
   "metadata": {},
   "outputs": [],
   "source": [
    "column_names = [\"Conditions\", \"Option 1\", \"Option 2\"]\n",
    "\n",
    "dictionary = {\"Conditions\":[\"Condition 1\", \"Condition 2\", \"Condition 3\", \"Condition 4\" ], \"Option 1\":[5,12,9,25], \"Option 2\":[12,2,14,3]}\n",
    "\n",
    "data = pd.DataFrame(dictionary)"
   ]
  },
  {
   "cell_type": "code",
   "execution_count": 27,
   "id": "6a2e890f",
   "metadata": {},
   "outputs": [
    {
     "data": {
      "text/html": [
       "<div>\n",
       "<style scoped>\n",
       "    .dataframe tbody tr th:only-of-type {\n",
       "        vertical-align: middle;\n",
       "    }\n",
       "\n",
       "    .dataframe tbody tr th {\n",
       "        vertical-align: top;\n",
       "    }\n",
       "\n",
       "    .dataframe thead th {\n",
       "        text-align: right;\n",
       "    }\n",
       "</style>\n",
       "<table border=\"1\" class=\"dataframe\">\n",
       "  <thead>\n",
       "    <tr style=\"text-align: right;\">\n",
       "      <th></th>\n",
       "      <th>Conditions</th>\n",
       "      <th>Option 1</th>\n",
       "      <th>Option 2</th>\n",
       "    </tr>\n",
       "  </thead>\n",
       "  <tbody>\n",
       "    <tr>\n",
       "      <th>0</th>\n",
       "      <td>Condition 1</td>\n",
       "      <td>5</td>\n",
       "      <td>12</td>\n",
       "    </tr>\n",
       "    <tr>\n",
       "      <th>1</th>\n",
       "      <td>Condition 2</td>\n",
       "      <td>12</td>\n",
       "      <td>2</td>\n",
       "    </tr>\n",
       "    <tr>\n",
       "      <th>2</th>\n",
       "      <td>Condition 3</td>\n",
       "      <td>9</td>\n",
       "      <td>14</td>\n",
       "    </tr>\n",
       "    <tr>\n",
       "      <th>3</th>\n",
       "      <td>Condition 4</td>\n",
       "      <td>25</td>\n",
       "      <td>3</td>\n",
       "    </tr>\n",
       "  </tbody>\n",
       "</table>\n",
       "</div>"
      ],
      "text/plain": [
       "    Conditions  Option 1  Option 2\n",
       "0  Condition 1         5        12\n",
       "1  Condition 2        12         2\n",
       "2  Condition 3         9        14\n",
       "3  Condition 4        25         3"
      ]
     },
     "execution_count": 27,
     "metadata": {},
     "output_type": "execute_result"
    }
   ],
   "source": [
    "data"
   ]
  },
  {
   "cell_type": "code",
   "execution_count": 24,
   "id": "bdcda9e4",
   "metadata": {},
   "outputs": [],
   "source": [
    "data.to_csv('data.csv', header=True, index=True)"
   ]
  },
  {
   "cell_type": "code",
   "execution_count": 57,
   "id": "840b0f5d",
   "metadata": {},
   "outputs": [],
   "source": [
    "from scipy.stats import binom_test,chi2,chi2_contingency\n"
   ]
  },
  {
   "cell_type": "code",
   "execution_count": 71,
   "id": "0ed3de3b",
   "metadata": {},
   "outputs": [],
   "source": [
    "data = data.set_index(\"Conditions\")"
   ]
  },
  {
   "cell_type": "code",
   "execution_count": 72,
   "id": "71233bfe",
   "metadata": {},
   "outputs": [
    {
     "data": {
      "text/plain": [
       "array([[ 5, 12],\n",
       "       [12,  2],\n",
       "       [ 9, 14],\n",
       "       [25,  3]])"
      ]
     },
     "execution_count": 72,
     "metadata": {},
     "output_type": "execute_result"
    }
   ],
   "source": [
    "data.values"
   ]
  },
  {
   "cell_type": "code",
   "execution_count": 73,
   "id": "a26333bf",
   "metadata": {},
   "outputs": [],
   "source": [
    "one_and_two = data.copy()"
   ]
  },
  {
   "cell_type": "code",
   "execution_count": 75,
   "id": "66b68803",
   "metadata": {},
   "outputs": [],
   "source": [
    "one_and_two.drop(one_and_two.tail(2).index,\n",
    "        inplace = True)"
   ]
  },
  {
   "cell_type": "code",
   "execution_count": 76,
   "id": "6a43f261",
   "metadata": {},
   "outputs": [
    {
     "data": {
      "text/html": [
       "<div>\n",
       "<style scoped>\n",
       "    .dataframe tbody tr th:only-of-type {\n",
       "        vertical-align: middle;\n",
       "    }\n",
       "\n",
       "    .dataframe tbody tr th {\n",
       "        vertical-align: top;\n",
       "    }\n",
       "\n",
       "    .dataframe thead th {\n",
       "        text-align: right;\n",
       "    }\n",
       "</style>\n",
       "<table border=\"1\" class=\"dataframe\">\n",
       "  <thead>\n",
       "    <tr style=\"text-align: right;\">\n",
       "      <th></th>\n",
       "      <th>Option 1</th>\n",
       "      <th>Option 2</th>\n",
       "    </tr>\n",
       "    <tr>\n",
       "      <th>Conditions</th>\n",
       "      <th></th>\n",
       "      <th></th>\n",
       "    </tr>\n",
       "  </thead>\n",
       "  <tbody>\n",
       "    <tr>\n",
       "      <th>Condition 1</th>\n",
       "      <td>5</td>\n",
       "      <td>12</td>\n",
       "    </tr>\n",
       "    <tr>\n",
       "      <th>Condition 2</th>\n",
       "      <td>12</td>\n",
       "      <td>2</td>\n",
       "    </tr>\n",
       "  </tbody>\n",
       "</table>\n",
       "</div>"
      ],
      "text/plain": [
       "             Option 1  Option 2\n",
       "Conditions                     \n",
       "Condition 1         5        12\n",
       "Condition 2        12         2"
      ]
     },
     "execution_count": 76,
     "metadata": {},
     "output_type": "execute_result"
    }
   ],
   "source": [
    "one_and_two"
   ]
  },
  {
   "cell_type": "code",
   "execution_count": 84,
   "id": "b0a0ed61",
   "metadata": {},
   "outputs": [],
   "source": [
    "three_and_four = data.copy()\n",
    "three_and_four.drop(three_and_four.head(2).index,\n",
    "        inplace = True)"
   ]
  },
  {
   "cell_type": "code",
   "execution_count": 85,
   "id": "6536db7b",
   "metadata": {},
   "outputs": [
    {
     "data": {
      "text/html": [
       "<div>\n",
       "<style scoped>\n",
       "    .dataframe tbody tr th:only-of-type {\n",
       "        vertical-align: middle;\n",
       "    }\n",
       "\n",
       "    .dataframe tbody tr th {\n",
       "        vertical-align: top;\n",
       "    }\n",
       "\n",
       "    .dataframe thead th {\n",
       "        text-align: right;\n",
       "    }\n",
       "</style>\n",
       "<table border=\"1\" class=\"dataframe\">\n",
       "  <thead>\n",
       "    <tr style=\"text-align: right;\">\n",
       "      <th></th>\n",
       "      <th>Option 1</th>\n",
       "      <th>Option 2</th>\n",
       "    </tr>\n",
       "    <tr>\n",
       "      <th>Conditions</th>\n",
       "      <th></th>\n",
       "      <th></th>\n",
       "    </tr>\n",
       "  </thead>\n",
       "  <tbody>\n",
       "    <tr>\n",
       "      <th>Condition 3</th>\n",
       "      <td>9</td>\n",
       "      <td>14</td>\n",
       "    </tr>\n",
       "    <tr>\n",
       "      <th>Condition 4</th>\n",
       "      <td>25</td>\n",
       "      <td>3</td>\n",
       "    </tr>\n",
       "  </tbody>\n",
       "</table>\n",
       "</div>"
      ],
      "text/plain": [
       "             Option 1  Option 2\n",
       "Conditions                     \n",
       "Condition 3         9        14\n",
       "Condition 4        25         3"
      ]
     },
     "execution_count": 85,
     "metadata": {},
     "output_type": "execute_result"
    }
   ],
   "source": [
    "three_and_four"
   ]
  },
  {
   "cell_type": "code",
   "execution_count": 96,
   "id": "afb537fd",
   "metadata": {},
   "outputs": [],
   "source": [
    "def chi_square2(Observed_Values):\n",
    "    stat, p, dof, expected = chi2_contingency(Observed_Values)\n",
    "    alpha = 0.05\n",
    "    print(\"p value is \" + str(p))\n",
    "    print(stat)\n",
    "    if p <= alpha:\n",
    "        print('Dependent (reject H0)')\n",
    "    else:\n",
    "        print('Independent (H0 holds true)')"
   ]
  },
  {
   "cell_type": "code",
   "execution_count": 97,
   "id": "2bfe7da9",
   "metadata": {},
   "outputs": [
    {
     "name": "stdout",
     "output_type": "stream",
     "text": [
      "p value is 0.005568134761810135\n",
      "7.685010769013487\n",
      "Dependent (reject H0)\n"
     ]
    }
   ],
   "source": [
    "chi_square2(one_and_two)"
   ]
  },
  {
   "cell_type": "code",
   "execution_count": 98,
   "id": "3b71e465",
   "metadata": {},
   "outputs": [
    {
     "name": "stdout",
     "output_type": "stream",
     "text": [
      "p value is 0.0004971409693062779\n",
      "12.126358695652174\n",
      "Dependent (reject H0)\n"
     ]
    }
   ],
   "source": [
    "chi_square2(three_and_four)"
   ]
  },
  {
   "cell_type": "code",
   "execution_count": 107,
   "id": "afdc9bc3",
   "metadata": {},
   "outputs": [],
   "source": [
    "one_and_three = data.iloc[::2]"
   ]
  },
  {
   "cell_type": "code",
   "execution_count": 109,
   "id": "56dff21a",
   "metadata": {},
   "outputs": [
    {
     "data": {
      "text/html": [
       "<div>\n",
       "<style scoped>\n",
       "    .dataframe tbody tr th:only-of-type {\n",
       "        vertical-align: middle;\n",
       "    }\n",
       "\n",
       "    .dataframe tbody tr th {\n",
       "        vertical-align: top;\n",
       "    }\n",
       "\n",
       "    .dataframe thead th {\n",
       "        text-align: right;\n",
       "    }\n",
       "</style>\n",
       "<table border=\"1\" class=\"dataframe\">\n",
       "  <thead>\n",
       "    <tr style=\"text-align: right;\">\n",
       "      <th></th>\n",
       "      <th>Option 1</th>\n",
       "      <th>Option 2</th>\n",
       "    </tr>\n",
       "    <tr>\n",
       "      <th>Conditions</th>\n",
       "      <th></th>\n",
       "      <th></th>\n",
       "    </tr>\n",
       "  </thead>\n",
       "  <tbody>\n",
       "    <tr>\n",
       "      <th>Condition 1</th>\n",
       "      <td>5</td>\n",
       "      <td>12</td>\n",
       "    </tr>\n",
       "    <tr>\n",
       "      <th>Condition 3</th>\n",
       "      <td>9</td>\n",
       "      <td>14</td>\n",
       "    </tr>\n",
       "  </tbody>\n",
       "</table>\n",
       "</div>"
      ],
      "text/plain": [
       "             Option 1  Option 2\n",
       "Conditions                     \n",
       "Condition 1         5        12\n",
       "Condition 3         9        14"
      ]
     },
     "execution_count": 109,
     "metadata": {},
     "output_type": "execute_result"
    }
   ],
   "source": [
    "one_and_three"
   ]
  },
  {
   "cell_type": "code",
   "execution_count": 110,
   "id": "423c42ea",
   "metadata": {},
   "outputs": [
    {
     "name": "stdout",
     "output_type": "stream",
     "text": [
      "p value is 0.7628340936842929\n",
      "0.09105983530535944\n",
      "Independent (H0 holds true)\n"
     ]
    }
   ],
   "source": [
    "chi_square2(one_and_three)"
   ]
  },
  {
   "cell_type": "markdown",
   "id": "8425e438",
   "metadata": {},
   "source": [
    "The above result is different"
   ]
  },
  {
   "cell_type": "code",
   "execution_count": 113,
   "id": "101b1262",
   "metadata": {},
   "outputs": [],
   "source": [
    "two_and_four = data.iloc[1::2]"
   ]
  },
  {
   "cell_type": "code",
   "execution_count": 114,
   "id": "39e5d0a3",
   "metadata": {},
   "outputs": [
    {
     "data": {
      "text/html": [
       "<div>\n",
       "<style scoped>\n",
       "    .dataframe tbody tr th:only-of-type {\n",
       "        vertical-align: middle;\n",
       "    }\n",
       "\n",
       "    .dataframe tbody tr th {\n",
       "        vertical-align: top;\n",
       "    }\n",
       "\n",
       "    .dataframe thead th {\n",
       "        text-align: right;\n",
       "    }\n",
       "</style>\n",
       "<table border=\"1\" class=\"dataframe\">\n",
       "  <thead>\n",
       "    <tr style=\"text-align: right;\">\n",
       "      <th></th>\n",
       "      <th>Option 1</th>\n",
       "      <th>Option 2</th>\n",
       "    </tr>\n",
       "    <tr>\n",
       "      <th>Conditions</th>\n",
       "      <th></th>\n",
       "      <th></th>\n",
       "    </tr>\n",
       "  </thead>\n",
       "  <tbody>\n",
       "    <tr>\n",
       "      <th>Condition 2</th>\n",
       "      <td>12</td>\n",
       "      <td>2</td>\n",
       "    </tr>\n",
       "    <tr>\n",
       "      <th>Condition 4</th>\n",
       "      <td>25</td>\n",
       "      <td>3</td>\n",
       "    </tr>\n",
       "  </tbody>\n",
       "</table>\n",
       "</div>"
      ],
      "text/plain": [
       "             Option 1  Option 2\n",
       "Conditions                     \n",
       "Condition 2        12         2\n",
       "Condition 4        25         3"
      ]
     },
     "execution_count": 114,
     "metadata": {},
     "output_type": "execute_result"
    }
   ],
   "source": [
    "two_and_four"
   ]
  },
  {
   "cell_type": "code",
   "execution_count": 115,
   "id": "24827dd4",
   "metadata": {},
   "outputs": [
    {
     "name": "stdout",
     "output_type": "stream",
     "text": [
      "p value is 0.8662223273845872\n",
      "0.028378378378378376\n",
      "Independent (H0 holds true)\n"
     ]
    }
   ],
   "source": [
    "chi_square2(two_and_four)"
   ]
  },
  {
   "cell_type": "code",
   "execution_count": 118,
   "id": "7e99e1f5",
   "metadata": {},
   "outputs": [],
   "source": [
    "column_names2 = [\"Type\", \"Non-Ethical\", \"Ethical\"]\n",
    "\n",
    "dictionary2 = {\"Type\":[\"Private\", \"Public\" ], \"Non-Ethical\":[7,12], \"Ethical\":[24,39]}\n",
    "\n",
    "data2 = pd.DataFrame(dictionary2)"
   ]
  },
  {
   "cell_type": "code",
   "execution_count": 119,
   "id": "9b8acd35",
   "metadata": {},
   "outputs": [],
   "source": [
    "data2= data2.set_index(\"Type\")"
   ]
  },
  {
   "cell_type": "code",
   "execution_count": 120,
   "id": "5b1c01cf",
   "metadata": {},
   "outputs": [
    {
     "data": {
      "text/html": [
       "<div>\n",
       "<style scoped>\n",
       "    .dataframe tbody tr th:only-of-type {\n",
       "        vertical-align: middle;\n",
       "    }\n",
       "\n",
       "    .dataframe tbody tr th {\n",
       "        vertical-align: top;\n",
       "    }\n",
       "\n",
       "    .dataframe thead th {\n",
       "        text-align: right;\n",
       "    }\n",
       "</style>\n",
       "<table border=\"1\" class=\"dataframe\">\n",
       "  <thead>\n",
       "    <tr style=\"text-align: right;\">\n",
       "      <th></th>\n",
       "      <th>Non-Ethical</th>\n",
       "      <th>Ethical</th>\n",
       "    </tr>\n",
       "    <tr>\n",
       "      <th>Type</th>\n",
       "      <th></th>\n",
       "      <th></th>\n",
       "    </tr>\n",
       "  </thead>\n",
       "  <tbody>\n",
       "    <tr>\n",
       "      <th>Private</th>\n",
       "      <td>7</td>\n",
       "      <td>24</td>\n",
       "    </tr>\n",
       "    <tr>\n",
       "      <th>Public</th>\n",
       "      <td>12</td>\n",
       "      <td>39</td>\n",
       "    </tr>\n",
       "  </tbody>\n",
       "</table>\n",
       "</div>"
      ],
      "text/plain": [
       "         Non-Ethical  Ethical\n",
       "Type                         \n",
       "Private            7       24\n",
       "Public            12       39"
      ]
     },
     "execution_count": 120,
     "metadata": {},
     "output_type": "execute_result"
    }
   ],
   "source": [
    "data2"
   ]
  },
  {
   "cell_type": "code",
   "execution_count": 121,
   "id": "67c9ecb0",
   "metadata": {},
   "outputs": [
    {
     "name": "stdout",
     "output_type": "stream",
     "text": [
      "p value is 0.8641088084165017\n",
      "0.02929102220024024\n",
      "Independent (H0 holds true)\n"
     ]
    }
   ],
   "source": [
    "chi_square2(data2)"
   ]
  },
  {
   "cell_type": "code",
   "execution_count": 134,
   "id": "e0ddd4e3",
   "metadata": {},
   "outputs": [],
   "source": [
    "def bino_test(success, failure):\n",
    "    p = binom_test([success,failure])\n",
    "    if p>0.05:\n",
    "        print(\"Significant differences not found\")\n",
    "    elif p<0.01:\n",
    "        print(\"Significant differences found\")\n",
    "        \n",
    "    return p \n",
    "    "
   ]
  },
  {
   "cell_type": "code",
   "execution_count": 135,
   "id": "8c4ceb35",
   "metadata": {},
   "outputs": [
    {
     "name": "stdout",
     "output_type": "stream",
     "text": [
      "Significant differences not found\n"
     ]
    },
    {
     "data": {
      "text/plain": [
       "0.14346313476562497"
      ]
     },
     "execution_count": 135,
     "metadata": {},
     "output_type": "execute_result"
    }
   ],
   "source": [
    "# condition 1\n",
    "\n",
    "bino_test(5,12)"
   ]
  },
  {
   "cell_type": "code",
   "execution_count": 136,
   "id": "95cb48f5",
   "metadata": {},
   "outputs": [
    {
     "data": {
      "text/plain": [
       "0.012939453124999998"
      ]
     },
     "execution_count": 136,
     "metadata": {},
     "output_type": "execute_result"
    }
   ],
   "source": [
    "# condition 2\n",
    "\n",
    "bino_test(12,2)"
   ]
  },
  {
   "cell_type": "markdown",
   "id": "0e206731",
   "metadata": {},
   "source": [
    "A slight deviation. From the paper p value has to be less than 0.01"
   ]
  },
  {
   "cell_type": "code",
   "execution_count": 137,
   "id": "50503174",
   "metadata": {},
   "outputs": [
    {
     "name": "stdout",
     "output_type": "stream",
     "text": [
      "Significant differences not found\n"
     ]
    },
    {
     "data": {
      "text/plain": [
       "0.4048728942871095"
      ]
     },
     "execution_count": 137,
     "metadata": {},
     "output_type": "execute_result"
    }
   ],
   "source": [
    "# condition 3\n",
    "\n",
    "bino_test(9,14)"
   ]
  },
  {
   "cell_type": "markdown",
   "id": "97210863",
   "metadata": {},
   "source": [
    "This is different. From paper, p value has to be less than 0.01"
   ]
  },
  {
   "cell_type": "code",
   "execution_count": 138,
   "id": "babc9f55",
   "metadata": {},
   "outputs": [
    {
     "name": "stdout",
     "output_type": "stream",
     "text": [
      "Significant differences found\n"
     ]
    },
    {
     "data": {
      "text/plain": [
       "2.7440488338470462e-05"
      ]
     },
     "execution_count": 138,
     "metadata": {},
     "output_type": "execute_result"
    }
   ],
   "source": [
    "# condition 4\n",
    "\n",
    "bino_test(25,3)"
   ]
  },
  {
   "cell_type": "code",
   "execution_count": null,
   "id": "dfc9a4a3",
   "metadata": {},
   "outputs": [],
   "source": []
  }
 ],
 "metadata": {
  "kernelspec": {
   "display_name": "Python 3 (ipykernel)",
   "language": "python",
   "name": "python3"
  },
  "language_info": {
   "codemirror_mode": {
    "name": "ipython",
    "version": 3
   },
   "file_extension": ".py",
   "mimetype": "text/x-python",
   "name": "python",
   "nbconvert_exporter": "python",
   "pygments_lexer": "ipython3",
   "version": "3.8.8"
  }
 },
 "nbformat": 4,
 "nbformat_minor": 5
}
